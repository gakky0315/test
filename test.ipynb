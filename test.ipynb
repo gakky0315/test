{
 "cells": [
  {
   "cell_type": "code",
   "execution_count": 3,
   "id": "c70f5e77-b350-4859-a637-93057db11682",
   "metadata": {
    "tags": []
   },
   "outputs": [],
   "source": [
    "from __future__ import annotations\n",
    "from glob import glob\n",
    "import os\n",
    "\n",
    "import matplotlib.pyplot as plt\n",
    "import numpy as np\n",
    "import pandas as pd\n",
    "import seaborn as sns\n",
    "\n",
    "sns.set_style(\"whitegrid\")\n",
    "plt.rcParams[\"font.family\"] = \"HGMaruGothicMPRO\""
   ]
  },
  {
   "cell_type": "code",
   "execution_count": 4,
   "id": "fab6231f-5392-4472-8cf2-e5e2c31cdc4c",
   "metadata": {
    "tags": []
   },
   "outputs": [],
   "source": [
    "DATA_DIREC = f\".\\data\\task1\""
   ]
  },
  {
   "cell_type": "code",
   "execution_count": 5,
   "id": "b7c6e088-5894-462a-90e8-4bb9185d62e0",
   "metadata": {
    "tags": []
   },
   "outputs": [
    {
     "ename": "SyntaxError",
     "evalue": "invalid syntax (582976161.py, line 5)",
     "output_type": "error",
     "traceback": [
      "\u001b[1;36m  Cell \u001b[1;32mIn[5], line 5\u001b[1;36m\u001b[0m\n\u001b[1;33m    lst_unit_dep_pair  [(k,v) for k, lstin unit_departments_map.itmes() for v]\u001b[0m\n\u001b[1;37m                              ^\u001b[0m\n\u001b[1;31mSyntaxError\u001b[0m\u001b[1;31m:\u001b[0m invalid syntax\n"
     ]
    }
   ],
   "source": [
    "def generate_dummy_dailypl(years, unit_departments_map, missing_rate = 0.001, infimum_pl = -0.5, vol = 0.01, direc = DATA_DIREC, seed=128):\n",
    "    np.random.seed(seed)\n",
    "    os.makedirs(direc, exist_ok = True)\n",
    "    num_of_departments = sum(map(len, unit_departments_map.values()))\n",
    "    lst_unit_dep_pair  [(k,v) for k, lst in unit_departments_map.itmes() for v]\n",
    "    \n",
    "    dates = [\n",
    "        d for d in pa.date_range(pd.Timestamp(min(year), 4,1)), pd.Timestamp(max(year),4,1)\n",
    "        if d.dayofweek < 5\n",
    "    ]\n",
    "    df = pd.DataFrame(\n",
    "        np.random.randn(len(dates), num_of_departments),\n",
    "        index = dates, columns = lst_unit_dep_pair\n",
    "    ) * vol\n",
    "    base_pl = pd.Series(np.random.uniform(0.5, 3, size = num_of_departments), index = )\n",
    "    \n",
    "    df = (np.exp(df.cumsum()) * base_pl  + infimum_pl) .round(4)\n",
    "    \n",
    "    df = df.mask(np.random.chice([True, False], size = df.shape, p = [missing_rate, 1 -missing_rate]))\n",
    "    df = df.stack(level = [0,1]).to_frame().reset_index()\n",
    "    df.rename(columns = {\"level_0\":\"date\", \"level_1\":\"unit\", \"level_2\":, \"level_0\":\"department\"})\n",
    "    \n",
    "    df[\"nendo\"] = df.date.map(lambda d: d.year if d.month >=4 else d.year - 1)\n",
    "    \n",
    "    for nendo.grp in df.groupy(\"nendo\"):\n",
    "        with pd.ExcelWriter(os.path.join(direc, f\"dailyPL{nendo}.xlsx\")) as writer:\n",
    "            for unit, grp_ in grp.groupby(\"unit\"):\n",
    "                grp_[[\"date\", \"unit\", \"department\",\"dailyPL\"]].to_excel(writer, )"
   ]
  },
  {
   "cell_type": "code",
   "execution_count": 14,
   "id": "54f81c98-6b94-44e3-a28e-1b5a32027415",
   "metadata": {
    "collapsed": true,
    "jupyter": {
     "outputs_hidden": true
    },
    "tags": []
   },
   "outputs": [
    {
     "data": {
      "text/plain": [
       "A    1.980020\n",
       "A    2.315932\n",
       "A    0.876972\n",
       "A    2.005834\n",
       "A    2.668432\n",
       "A    1.075630\n",
       "A    1.240178\n",
       "A    2.972869\n",
       "A    0.786522\n",
       "A    0.707210\n",
       "dtype: float64"
      ]
     },
     "execution_count": 14,
     "metadata": {},
     "output_type": "execute_result"
    }
   ],
   "source": [
    "import pandas as pd\n",
    "import numpy as np\n",
    "\n",
    "base_pl = pd.Series(np.random.uniform(0.5, 3, size=10), index=[\"A\"]*10)\n",
    "\n",
    "base_pl"
   ]
  },
  {
   "cell_type": "code",
   "execution_count": 17,
   "id": "4efecee7-7f51-40a1-b6d0-fb7168b4cb4f",
   "metadata": {
    "tags": []
   },
   "outputs": [
    {
     "name": "stdout",
     "output_type": "stream",
     "text": [
      "初期のdf（log return）:\n"
     ]
    },
    {
     "data": {
      "text/html": [
       "<div>\n",
       "<style scoped>\n",
       "    .dataframe tbody tr th:only-of-type {\n",
       "        vertical-align: middle;\n",
       "    }\n",
       "\n",
       "    .dataframe tbody tr th {\n",
       "        vertical-align: top;\n",
       "    }\n",
       "\n",
       "    .dataframe thead tr th {\n",
       "        text-align: left;\n",
       "    }\n",
       "</style>\n",
       "<table border=\"1\" class=\"dataframe\">\n",
       "  <thead>\n",
       "    <tr>\n",
       "      <th>Unit</th>\n",
       "      <th>UnitA</th>\n",
       "      <th>UnitB</th>\n",
       "    </tr>\n",
       "    <tr>\n",
       "      <th>Department</th>\n",
       "      <th>Dept1</th>\n",
       "      <th>Dept2</th>\n",
       "    </tr>\n",
       "  </thead>\n",
       "  <tbody>\n",
       "    <tr>\n",
       "      <th>2024-04-01</th>\n",
       "      <td>0.01</td>\n",
       "      <td>0.03</td>\n",
       "    </tr>\n",
       "    <tr>\n",
       "      <th>2024-04-02</th>\n",
       "      <td>-0.02</td>\n",
       "      <td>0.01</td>\n",
       "    </tr>\n",
       "  </tbody>\n",
       "</table>\n",
       "</div>"
      ],
      "text/plain": [
       "Unit       UnitA UnitB\n",
       "Department Dept1 Dept2\n",
       "2024-04-01  0.01  0.03\n",
       "2024-04-02 -0.02  0.01"
      ]
     },
     "execution_count": 17,
     "metadata": {},
     "output_type": "execute_result"
    }
   ],
   "source": [
    "import pandas as pd\n",
    "import numpy as np\n",
    "\n",
    "# ログリターン（仮に2日分、2部門）\n",
    "df = pd.DataFrame({\n",
    "    ('UnitA', 'Dept1'): [0.01, -0.02],\n",
    "    ('UnitB', 'Dept2'): [0.03, 0.01]\n",
    "}, index=pd.date_range('2024-04-01', periods=2))\n",
    "\n",
    "df.columns.names = ['Unit', 'Department']\n",
    "print(\"初期のdf（log return）:\")\n",
    "df\n",
    "\n",
    "\n"
   ]
  },
  {
   "cell_type": "code",
   "execution_count": 18,
   "id": "69fef349-8c7f-4404-966a-92983258e98c",
   "metadata": {
    "tags": []
   },
   "outputs": [
    {
     "data": {
      "text/html": [
       "<div>\n",
       "<style scoped>\n",
       "    .dataframe tbody tr th:only-of-type {\n",
       "        vertical-align: middle;\n",
       "    }\n",
       "\n",
       "    .dataframe tbody tr th {\n",
       "        vertical-align: top;\n",
       "    }\n",
       "\n",
       "    .dataframe thead tr th {\n",
       "        text-align: left;\n",
       "    }\n",
       "</style>\n",
       "<table border=\"1\" class=\"dataframe\">\n",
       "  <thead>\n",
       "    <tr>\n",
       "      <th>Unit</th>\n",
       "      <th>UnitA</th>\n",
       "      <th>UnitB</th>\n",
       "    </tr>\n",
       "    <tr>\n",
       "      <th>Department</th>\n",
       "      <th>Dept1</th>\n",
       "      <th>Dept2</th>\n",
       "    </tr>\n",
       "  </thead>\n",
       "  <tbody>\n",
       "    <tr>\n",
       "      <th>2024-04-01</th>\n",
       "      <td>0.01</td>\n",
       "      <td>0.03</td>\n",
       "    </tr>\n",
       "    <tr>\n",
       "      <th>2024-04-02</th>\n",
       "      <td>-0.01</td>\n",
       "      <td>0.04</td>\n",
       "    </tr>\n",
       "  </tbody>\n",
       "</table>\n",
       "</div>"
      ],
      "text/plain": [
       "Unit       UnitA UnitB\n",
       "Department Dept1 Dept2\n",
       "2024-04-01  0.01  0.03\n",
       "2024-04-02 -0.01  0.04"
      ]
     },
     "execution_count": 18,
     "metadata": {},
     "output_type": "execute_result"
    }
   ],
   "source": [
    "df_cumsum = df.cumsum()\n",
    "\n",
    "df_cumsum"
   ]
  },
  {
   "cell_type": "code",
   "execution_count": 20,
   "id": "f640bc65-c272-474c-bf3b-8918ef895d04",
   "metadata": {
    "tags": []
   },
   "outputs": [
    {
     "data": {
      "text/html": [
       "<div>\n",
       "<style scoped>\n",
       "    .dataframe tbody tr th:only-of-type {\n",
       "        vertical-align: middle;\n",
       "    }\n",
       "\n",
       "    .dataframe tbody tr th {\n",
       "        vertical-align: top;\n",
       "    }\n",
       "\n",
       "    .dataframe thead tr th {\n",
       "        text-align: left;\n",
       "    }\n",
       "</style>\n",
       "<table border=\"1\" class=\"dataframe\">\n",
       "  <thead>\n",
       "    <tr>\n",
       "      <th>Unit</th>\n",
       "      <th>UnitA</th>\n",
       "      <th>UnitB</th>\n",
       "    </tr>\n",
       "    <tr>\n",
       "      <th>Department</th>\n",
       "      <th>Dept1</th>\n",
       "      <th>Dept2</th>\n",
       "    </tr>\n",
       "  </thead>\n",
       "  <tbody>\n",
       "    <tr>\n",
       "      <th>2024-04-01</th>\n",
       "      <td>1.01005</td>\n",
       "      <td>1.030455</td>\n",
       "    </tr>\n",
       "    <tr>\n",
       "      <th>2024-04-02</th>\n",
       "      <td>0.99005</td>\n",
       "      <td>1.040811</td>\n",
       "    </tr>\n",
       "  </tbody>\n",
       "</table>\n",
       "</div>"
      ],
      "text/plain": [
       "Unit          UnitA     UnitB\n",
       "Department    Dept1     Dept2\n",
       "2024-04-01  1.01005  1.030455\n",
       "2024-04-02  0.99005  1.040811"
      ]
     },
     "execution_count": 20,
     "metadata": {},
     "output_type": "execute_result"
    }
   ],
   "source": [
    "df_exp = np.exp(df_cumsum)\n",
    "\n",
    "df_exp"
   ]
  },
  {
   "cell_type": "markdown",
   "id": "65985db0-7614-419a-8fc0-92431d8b23a5",
   "metadata": {},
   "source": [
    "## random.choice, stack"
   ]
  },
  {
   "cell_type": "code",
   "execution_count": 51,
   "id": "ccd3353a-5dd1-4d67-a2bf-69d9732e41ac",
   "metadata": {
    "tags": []
   },
   "outputs": [
    {
     "name": "stdout",
     "output_type": "stream",
     "text": [
      "元のdf:\n"
     ]
    },
    {
     "data": {
      "text/html": [
       "<div>\n",
       "<style scoped>\n",
       "    .dataframe tbody tr th:only-of-type {\n",
       "        vertical-align: middle;\n",
       "    }\n",
       "\n",
       "    .dataframe tbody tr th {\n",
       "        vertical-align: top;\n",
       "    }\n",
       "\n",
       "    .dataframe thead tr th {\n",
       "        text-align: left;\n",
       "    }\n",
       "</style>\n",
       "<table border=\"1\" class=\"dataframe\">\n",
       "  <thead>\n",
       "    <tr>\n",
       "      <th>Unit</th>\n",
       "      <th>UnitA</th>\n",
       "      <th>UnitB</th>\n",
       "    </tr>\n",
       "    <tr>\n",
       "      <th>Department</th>\n",
       "      <th>Dept1</th>\n",
       "      <th>Dept2</th>\n",
       "    </tr>\n",
       "  </thead>\n",
       "  <tbody>\n",
       "    <tr>\n",
       "      <th>2024-04-01</th>\n",
       "      <td>1.5</td>\n",
       "      <td>2.5</td>\n",
       "    </tr>\n",
       "    <tr>\n",
       "      <th>2024-04-02</th>\n",
       "      <td>1.6</td>\n",
       "      <td>2.6</td>\n",
       "    </tr>\n",
       "  </tbody>\n",
       "</table>\n",
       "</div>"
      ],
      "text/plain": [
       "Unit       UnitA UnitB\n",
       "Department Dept1 Dept2\n",
       "2024-04-01   1.5   2.5\n",
       "2024-04-02   1.6   2.6"
      ]
     },
     "execution_count": 51,
     "metadata": {},
     "output_type": "execute_result"
    }
   ],
   "source": [
    "import pandas as pd\n",
    "import numpy as np\n",
    "\n",
    "np.random.seed(0)\n",
    "\n",
    "# 仮のPLデータ（2日×2部門）\n",
    "dates = pd.date_range('2024-04-01', periods=2)\n",
    "cols = pd.MultiIndex.from_tuples([(\"UnitA\", \"Dept1\"), (\"UnitB\", \"Dept2\")], names=[\"Unit\", \"Department\"])\n",
    "df = pd.DataFrame([[1.5, 2.5], [1.6, 2.6]], index=dates, columns=cols)\n",
    "\n",
    "print(\"元のdf:\")\n",
    "df"
   ]
  },
  {
   "cell_type": "code",
   "execution_count": 52,
   "id": "d5a3bfe2-eb78-4acc-9a87-5fe33b0d2de0",
   "metadata": {
    "tags": []
   },
   "outputs": [
    {
     "name": "stdout",
     "output_type": "stream",
     "text": [
      "NaNを含んだdf:\n"
     ]
    },
    {
     "data": {
      "text/html": [
       "<div>\n",
       "<style scoped>\n",
       "    .dataframe tbody tr th:only-of-type {\n",
       "        vertical-align: middle;\n",
       "    }\n",
       "\n",
       "    .dataframe tbody tr th {\n",
       "        vertical-align: top;\n",
       "    }\n",
       "\n",
       "    .dataframe thead tr th {\n",
       "        text-align: left;\n",
       "    }\n",
       "</style>\n",
       "<table border=\"1\" class=\"dataframe\">\n",
       "  <thead>\n",
       "    <tr>\n",
       "      <th>Unit</th>\n",
       "      <th>UnitA</th>\n",
       "      <th>UnitB</th>\n",
       "    </tr>\n",
       "    <tr>\n",
       "      <th>Department</th>\n",
       "      <th>Dept1</th>\n",
       "      <th>Dept2</th>\n",
       "    </tr>\n",
       "  </thead>\n",
       "  <tbody>\n",
       "    <tr>\n",
       "      <th>2024-04-01</th>\n",
       "      <td>1.5</td>\n",
       "      <td>2.5</td>\n",
       "    </tr>\n",
       "    <tr>\n",
       "      <th>2024-04-02</th>\n",
       "      <td>1.6</td>\n",
       "      <td>2.6</td>\n",
       "    </tr>\n",
       "  </tbody>\n",
       "</table>\n",
       "</div>"
      ],
      "text/plain": [
       "Unit       UnitA UnitB\n",
       "Department Dept1 Dept2\n",
       "2024-04-01   1.5   2.5\n",
       "2024-04-02   1.6   2.6"
      ]
     },
     "execution_count": 52,
     "metadata": {},
     "output_type": "execute_result"
    }
   ],
   "source": [
    "missing_rate = 0.5  # 50% をNaNに\n",
    "\n",
    "mask = np.random.choice([True, False], size=df.shape, p=[missing_rate, 1 - missing_rate])\n",
    "df = df.mask(mask)\n",
    "\n",
    "print(\"NaNを含んだdf:\")\n",
    "df"
   ]
  },
  {
   "cell_type": "code",
   "execution_count": 56,
   "id": "e849b046-2e73-4eee-a509-c1072a237a18",
   "metadata": {
    "tags": []
   },
   "outputs": [
    {
     "ename": "IndexError",
     "evalue": "Too many levels: Index has only 1 level, not 2",
     "output_type": "error",
     "traceback": [
      "\u001b[1;31m---------------------------------------------------------------------------\u001b[0m",
      "\u001b[1;31mIndexError\u001b[0m                                Traceback (most recent call last)",
      "Cell \u001b[1;32mIn[56], line 1\u001b[0m\n\u001b[1;32m----> 1\u001b[0m df \u001b[38;5;241m=\u001b[39m df\u001b[38;5;241m.\u001b[39mstack(level\u001b[38;5;241m=\u001b[39m[\u001b[38;5;241m0\u001b[39m, \u001b[38;5;241m1\u001b[39m])\u001b[38;5;241m.\u001b[39mto_frame()\u001b[38;5;241m.\u001b[39mreset_index()\n\u001b[0;32m      2\u001b[0m \u001b[38;5;66;03m#df.columns = ['date', 'unit', 'department', 'dailyPL']\u001b[39;00m\n\u001b[0;32m      3\u001b[0m \u001b[38;5;28mprint\u001b[39m(\u001b[38;5;124m\"\u001b[39m\u001b[38;5;124m縦持ち形式:\u001b[39m\u001b[38;5;124m\"\u001b[39m)\n",
      "File \u001b[1;32m~\\anaconda3\\Lib\\site-packages\\pandas\\core\\frame.py:8762\u001b[0m, in \u001b[0;36mDataFrame.stack\u001b[1;34m(self, level, dropna)\u001b[0m\n\u001b[0;32m   8756\u001b[0m \u001b[38;5;28;01mfrom\u001b[39;00m \u001b[38;5;21;01mpandas\u001b[39;00m\u001b[38;5;21;01m.\u001b[39;00m\u001b[38;5;21;01mcore\u001b[39;00m\u001b[38;5;21;01m.\u001b[39;00m\u001b[38;5;21;01mreshape\u001b[39;00m\u001b[38;5;21;01m.\u001b[39;00m\u001b[38;5;21;01mreshape\u001b[39;00m \u001b[38;5;28;01mimport\u001b[39;00m (\n\u001b[0;32m   8757\u001b[0m     stack,\n\u001b[0;32m   8758\u001b[0m     stack_multiple,\n\u001b[0;32m   8759\u001b[0m )\n\u001b[0;32m   8761\u001b[0m \u001b[38;5;28;01mif\u001b[39;00m \u001b[38;5;28misinstance\u001b[39m(level, (\u001b[38;5;28mtuple\u001b[39m, \u001b[38;5;28mlist\u001b[39m)):\n\u001b[1;32m-> 8762\u001b[0m     result \u001b[38;5;241m=\u001b[39m stack_multiple(\u001b[38;5;28mself\u001b[39m, level, dropna\u001b[38;5;241m=\u001b[39mdropna)\n\u001b[0;32m   8763\u001b[0m \u001b[38;5;28;01melse\u001b[39;00m:\n\u001b[0;32m   8764\u001b[0m     result \u001b[38;5;241m=\u001b[39m stack(\u001b[38;5;28mself\u001b[39m, level, dropna\u001b[38;5;241m=\u001b[39mdropna)\n",
      "File \u001b[1;32m~\\anaconda3\\Lib\\site-packages\\pandas\\core\\reshape\\reshape.py:631\u001b[0m, in \u001b[0;36mstack_multiple\u001b[1;34m(frame, level, dropna)\u001b[0m\n\u001b[0;32m    628\u001b[0m result \u001b[38;5;241m=\u001b[39m frame\n\u001b[0;32m    629\u001b[0m \u001b[38;5;66;03m# _get_level_number() checks level numbers are in range and converts\u001b[39;00m\n\u001b[0;32m    630\u001b[0m \u001b[38;5;66;03m# negative numbers to positive\u001b[39;00m\n\u001b[1;32m--> 631\u001b[0m level \u001b[38;5;241m=\u001b[39m [frame\u001b[38;5;241m.\u001b[39mcolumns\u001b[38;5;241m.\u001b[39m_get_level_number(lev) \u001b[38;5;28;01mfor\u001b[39;00m lev \u001b[38;5;129;01min\u001b[39;00m level]\n\u001b[0;32m    633\u001b[0m \u001b[38;5;28;01mwhile\u001b[39;00m level:\n\u001b[0;32m    634\u001b[0m     lev \u001b[38;5;241m=\u001b[39m level\u001b[38;5;241m.\u001b[39mpop(\u001b[38;5;241m0\u001b[39m)\n",
      "File \u001b[1;32m~\\anaconda3\\Lib\\site-packages\\pandas\\core\\reshape\\reshape.py:631\u001b[0m, in \u001b[0;36m<listcomp>\u001b[1;34m(.0)\u001b[0m\n\u001b[0;32m    628\u001b[0m result \u001b[38;5;241m=\u001b[39m frame\n\u001b[0;32m    629\u001b[0m \u001b[38;5;66;03m# _get_level_number() checks level numbers are in range and converts\u001b[39;00m\n\u001b[0;32m    630\u001b[0m \u001b[38;5;66;03m# negative numbers to positive\u001b[39;00m\n\u001b[1;32m--> 631\u001b[0m level \u001b[38;5;241m=\u001b[39m [frame\u001b[38;5;241m.\u001b[39mcolumns\u001b[38;5;241m.\u001b[39m_get_level_number(lev) \u001b[38;5;28;01mfor\u001b[39;00m lev \u001b[38;5;129;01min\u001b[39;00m level]\n\u001b[0;32m    633\u001b[0m \u001b[38;5;28;01mwhile\u001b[39;00m level:\n\u001b[0;32m    634\u001b[0m     lev \u001b[38;5;241m=\u001b[39m level\u001b[38;5;241m.\u001b[39mpop(\u001b[38;5;241m0\u001b[39m)\n",
      "File \u001b[1;32m~\\anaconda3\\Lib\\site-packages\\pandas\\core\\indexes\\base.py:1915\u001b[0m, in \u001b[0;36mIndex._get_level_number\u001b[1;34m(self, level)\u001b[0m\n\u001b[0;32m   1914\u001b[0m \u001b[38;5;28;01mdef\u001b[39;00m \u001b[38;5;21m_get_level_number\u001b[39m(\u001b[38;5;28mself\u001b[39m, level) \u001b[38;5;241m-\u001b[39m\u001b[38;5;241m>\u001b[39m \u001b[38;5;28mint\u001b[39m:\n\u001b[1;32m-> 1915\u001b[0m     \u001b[38;5;28mself\u001b[39m\u001b[38;5;241m.\u001b[39m_validate_index_level(level)\n\u001b[0;32m   1916\u001b[0m     \u001b[38;5;28;01mreturn\u001b[39;00m \u001b[38;5;241m0\u001b[39m\n",
      "File \u001b[1;32m~\\anaconda3\\Lib\\site-packages\\pandas\\core\\indexes\\base.py:1906\u001b[0m, in \u001b[0;36mIndex._validate_index_level\u001b[1;34m(self, level)\u001b[0m\n\u001b[0;32m   1901\u001b[0m         \u001b[38;5;28;01mraise\u001b[39;00m \u001b[38;5;167;01mIndexError\u001b[39;00m(\n\u001b[0;32m   1902\u001b[0m             \u001b[38;5;124m\"\u001b[39m\u001b[38;5;124mToo many levels: Index has only 1 level, \u001b[39m\u001b[38;5;124m\"\u001b[39m\n\u001b[0;32m   1903\u001b[0m             \u001b[38;5;124mf\u001b[39m\u001b[38;5;124m\"\u001b[39m\u001b[38;5;132;01m{\u001b[39;00mlevel\u001b[38;5;132;01m}\u001b[39;00m\u001b[38;5;124m is not a valid level number\u001b[39m\u001b[38;5;124m\"\u001b[39m\n\u001b[0;32m   1904\u001b[0m         )\n\u001b[0;32m   1905\u001b[0m     \u001b[38;5;28;01mif\u001b[39;00m level \u001b[38;5;241m>\u001b[39m \u001b[38;5;241m0\u001b[39m:\n\u001b[1;32m-> 1906\u001b[0m         \u001b[38;5;28;01mraise\u001b[39;00m \u001b[38;5;167;01mIndexError\u001b[39;00m(\n\u001b[0;32m   1907\u001b[0m             \u001b[38;5;124mf\u001b[39m\u001b[38;5;124m\"\u001b[39m\u001b[38;5;124mToo many levels: Index has only 1 level, not \u001b[39m\u001b[38;5;132;01m{\u001b[39;00mlevel\u001b[38;5;250m \u001b[39m\u001b[38;5;241m+\u001b[39m\u001b[38;5;250m \u001b[39m\u001b[38;5;241m1\u001b[39m\u001b[38;5;132;01m}\u001b[39;00m\u001b[38;5;124m\"\u001b[39m\n\u001b[0;32m   1908\u001b[0m         )\n\u001b[0;32m   1909\u001b[0m \u001b[38;5;28;01melif\u001b[39;00m level \u001b[38;5;241m!=\u001b[39m \u001b[38;5;28mself\u001b[39m\u001b[38;5;241m.\u001b[39mname:\n\u001b[0;32m   1910\u001b[0m     \u001b[38;5;28;01mraise\u001b[39;00m \u001b[38;5;167;01mKeyError\u001b[39;00m(\n\u001b[0;32m   1911\u001b[0m         \u001b[38;5;124mf\u001b[39m\u001b[38;5;124m\"\u001b[39m\u001b[38;5;124mRequested level (\u001b[39m\u001b[38;5;132;01m{\u001b[39;00mlevel\u001b[38;5;132;01m}\u001b[39;00m\u001b[38;5;124m) does not match index name (\u001b[39m\u001b[38;5;132;01m{\u001b[39;00m\u001b[38;5;28mself\u001b[39m\u001b[38;5;241m.\u001b[39mname\u001b[38;5;132;01m}\u001b[39;00m\u001b[38;5;124m)\u001b[39m\u001b[38;5;124m\"\u001b[39m\n\u001b[0;32m   1912\u001b[0m     )\n",
      "\u001b[1;31mIndexError\u001b[0m: Too many levels: Index has only 1 level, not 2"
     ]
    }
   ],
   "source": [
    "df = df.stack(level=[0, 1]).to_frame().reset_index()\n",
    "#df.columns = ['date', 'unit', 'department', 'dailyPL']\n",
    "print(\"縦持ち形式:\")\n",
    "df"
   ]
  },
  {
   "cell_type": "code",
   "execution_count": null,
   "id": "8b77941a-7e35-4bc6-982c-94cb9365e08e",
   "metadata": {},
   "outputs": [],
   "source": []
  },
  {
   "cell_type": "code",
   "execution_count": 6,
   "id": "f7b8d195-b019-4055-8075-1571c658d036",
   "metadata": {
    "tags": []
   },
   "outputs": [],
   "source": [
    "num_of_year = 5\n",
    "num_of_deps_per_unit= 12\n",
    "min_year = 2013\n",
    "max_year = 2021"
   ]
  },
  {
   "cell_type": "code",
   "execution_count": null,
   "id": "2d16bcf9-ab71-48e3-a422-7a94eb987207",
   "metadata": {},
   "outputs": [],
   "source": [
    "%%time\n",
    "\n",
    "generate_dummy_dailypl(\n",
    "    range(min_year, max_year+1),\n",
    "    {}\n",
    ")"
   ]
  },
  {
   "cell_type": "code",
   "execution_count": null,
   "id": "d26402fb-185a-41c5-b96f-5709e69e2195",
   "metadata": {},
   "outputs": [],
   "source": [
    "lst_dict_dfs = [\n",
    "    pd.read_excel(path, sheet_name = None)\n",
    "    for path in glob(os.path.join(DATA_DIREC, \"*xlsx\"))\n",
    "]"
   ]
  },
  {
   "cell_type": "code",
   "execution_count": null,
   "id": "5b1f7fcb-d81f-4be3-868e-8638a081c4fd",
   "metadata": {},
   "outputs": [],
   "source": []
  },
  {
   "cell_type": "code",
   "execution_count": null,
   "id": "3299cc96-4144-4b45-890f-e0f7f2d5bd1e",
   "metadata": {},
   "outputs": [],
   "source": []
  },
  {
   "cell_type": "code",
   "execution_count": null,
   "id": "af4f5174-6495-497d-a5df-371699673665",
   "metadata": {},
   "outputs": [],
   "source": []
  },
  {
   "cell_type": "code",
   "execution_count": null,
   "id": "f4e26651-0c2a-49e1-b4ec-e8619e008284",
   "metadata": {},
   "outputs": [],
   "source": []
  },
  {
   "cell_type": "code",
   "execution_count": null,
   "id": "d4b94bed-8190-4fae-b5e0-a9cb3525dae7",
   "metadata": {},
   "outputs": [],
   "source": []
  },
  {
   "cell_type": "code",
   "execution_count": null,
   "id": "be8d3c79-4c82-4e6f-9b66-b4ff2895de53",
   "metadata": {},
   "outputs": [],
   "source": []
  },
  {
   "cell_type": "code",
   "execution_count": null,
   "id": "9fae82e8-5064-48e8-9391-7c267bdef472",
   "metadata": {},
   "outputs": [],
   "source": []
  },
  {
   "cell_type": "code",
   "execution_count": null,
   "id": "962dbd76-34dd-4b63-b8ec-8d23aeb285e1",
   "metadata": {},
   "outputs": [],
   "source": []
  },
  {
   "cell_type": "code",
   "execution_count": null,
   "id": "2b53cb44-c7fd-43bc-9ed5-3c727b59cdb4",
   "metadata": {},
   "outputs": [],
   "source": []
  },
  {
   "cell_type": "code",
   "execution_count": null,
   "id": "80645538-49f8-44aa-81e2-84b63af331a1",
   "metadata": {},
   "outputs": [],
   "source": []
  }
 ],
 "metadata": {
  "kernelspec": {
   "display_name": "Python 3 (ipykernel)",
   "language": "python",
   "name": "python3"
  },
  "language_info": {
   "codemirror_mode": {
    "name": "ipython",
    "version": 3
   },
   "file_extension": ".py",
   "mimetype": "text/x-python",
   "name": "python",
   "nbconvert_exporter": "python",
   "pygments_lexer": "ipython3",
   "version": "3.11.5"
  }
 },
 "nbformat": 4,
 "nbformat_minor": 5
}
