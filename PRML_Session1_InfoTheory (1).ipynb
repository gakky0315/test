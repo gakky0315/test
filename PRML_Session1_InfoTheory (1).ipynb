{
 "cells": [
  {
   "cell_type": "markdown",
   "id": "0390ecf7",
   "metadata": {},
   "source": [
    "# セッション1: 情報理論の基礎と応用\n",
    "\n",
    "このノートブックでは、情報理論の主要な概念である**情報量**, **エントロピー**, **KLダイバージェンス**について数式とPythonコードを通して直感的に理解を深めます。\n",
    "\n",
    "## 目標\n",
    "- 情報量が確率とどのような関係にあるかを理解する\n",
    "- 離散エントロピーとその最大・最小の意味を確認する\n",
    "- KLダイバージェンスがどのような「距離」なのかを実感する\n"
   ]
  },
  {
   "cell_type": "markdown",
   "id": "d4eb74be",
   "metadata": {},
   "source": [
    "## 問題1: 情報量の性質と可視化\n",
    "\n",
    "情報量 $ I(x) = - \\log_2 p(x) $ は、事象の起こりにくさを定量化した指標です。  \n",
    "以下では、確率 $ p \\in (0, 1] $ に対して情報量をグラフ化し、低い確率が高い情報量に対応することを確認しましょう。\n"
   ]
  },
  {
   "cell_type": "code",
   "execution_count": 1,
   "id": "43a7c19b",
   "metadata": {
    "scrolled": true,
    "tags": []
   },
   "outputs": [
    {
     "name": "stderr",
     "output_type": "stream",
     "text": [
      "C:\\Users\\tokei\\anaconda3\\Lib\\site-packages\\IPython\\core\\pylabtools.py:152: UserWarning: Glyph 24773 (\\N{CJK UNIFIED IDEOGRAPH-60C5}) missing from current font.\n",
      "  fig.canvas.print_figure(bytes_io, **kw)\n",
      "C:\\Users\\tokei\\anaconda3\\Lib\\site-packages\\IPython\\core\\pylabtools.py:152: UserWarning: Glyph 22577 (\\N{CJK UNIFIED IDEOGRAPH-5831}) missing from current font.\n",
      "  fig.canvas.print_figure(bytes_io, **kw)\n",
      "C:\\Users\\tokei\\anaconda3\\Lib\\site-packages\\IPython\\core\\pylabtools.py:152: UserWarning: Glyph 37327 (\\N{CJK UNIFIED IDEOGRAPH-91CF}) missing from current font.\n",
      "  fig.canvas.print_figure(bytes_io, **kw)\n",
      "C:\\Users\\tokei\\anaconda3\\Lib\\site-packages\\IPython\\core\\pylabtools.py:152: UserWarning: Glyph 12392 (\\N{HIRAGANA LETTER TO}) missing from current font.\n",
      "  fig.canvas.print_figure(bytes_io, **kw)\n",
      "C:\\Users\\tokei\\anaconda3\\Lib\\site-packages\\IPython\\core\\pylabtools.py:152: UserWarning: Glyph 30906 (\\N{CJK UNIFIED IDEOGRAPH-78BA}) missing from current font.\n",
      "  fig.canvas.print_figure(bytes_io, **kw)\n",
      "C:\\Users\\tokei\\anaconda3\\Lib\\site-packages\\IPython\\core\\pylabtools.py:152: UserWarning: Glyph 29575 (\\N{CJK UNIFIED IDEOGRAPH-7387}) missing from current font.\n",
      "  fig.canvas.print_figure(bytes_io, **kw)\n",
      "C:\\Users\\tokei\\anaconda3\\Lib\\site-packages\\IPython\\core\\pylabtools.py:152: UserWarning: Glyph 12398 (\\N{HIRAGANA LETTER NO}) missing from current font.\n",
      "  fig.canvas.print_figure(bytes_io, **kw)\n",
      "C:\\Users\\tokei\\anaconda3\\Lib\\site-packages\\IPython\\core\\pylabtools.py:152: UserWarning: Glyph 38306 (\\N{CJK UNIFIED IDEOGRAPH-95A2}) missing from current font.\n",
      "  fig.canvas.print_figure(bytes_io, **kw)\n",
      "C:\\Users\\tokei\\anaconda3\\Lib\\site-packages\\IPython\\core\\pylabtools.py:152: UserWarning: Glyph 20418 (\\N{CJK UNIFIED IDEOGRAPH-4FC2}) missing from current font.\n",
      "  fig.canvas.print_figure(bytes_io, **kw)\n"
     ]
    },
    {
     "data": {
      "image/png": "[encoded data removed]",
      "text/plain": [
       "<Figure size 640x480 with 1 Axes>"
      ]
     },
     "metadata": {},
     "output_type": "display_data"
    }
   ],
   "source": [
    "import numpy as np\n",
    "import matplotlib.pyplot as plt\n",
    "\n",
    "p = np.linspace(0.001, 1, 100)\n",
    "info = -np.log2(p)\n",
    "\n",
    "plt.plot(p, info)\n",
    "plt.xlabel(\"確率 p\")\n",
    "plt.ylabel(\"情報量 I(x) = -log2(p)\")\n",
    "plt.title(\"情報量と確率の関係\")\n",
    "plt.grid()\n",
    "plt.show()\n",
    "\n",
    "# 情報量が最大となるのは、p = ____ のとき\n",
    "# 情報量が最小となるのは、p = ____ のとき\n"
   ]
  },
  {
   "cell_type": "code",
   "execution_count": 2,
   "id": "a3a2b8ee",
   "metadata": {
    "tags": []
   },
   "outputs": [
    {
     "name": "stdout",
     "output_type": "stream",
     "text": [
      "最大情報量の確率 p = 0.001\n",
      "最小情報量の確率 p = 1.0\n"
     ]
    }
   ],
   "source": [
    "print(\"最大情報量の確率 p =\", p[np.argmax(info)])\n",
    "print(\"最小情報量の確率 p =\", p[np.argmin(info)])\n"
   ]
  },
  {
   "cell_type": "markdown",
   "id": "2bb569e4",
   "metadata": {},
   "source": [
    "## 問題2: エントロピー最大化の直感\n",
    "\n",
    "エントロピー $ H(p) = -\\sum p(x) \\log_2 p(x) $ は「平均的な情報量」を意味します。  \n",
    "等確率（最も不確実）な分布と、偏った（確定的）分布を比較し、エントロピーがどう変化するかを確認しましょう。\n"
   ]
  },
  {
   "cell_type": "code",
   "execution_count": 3,
   "id": "4f518678",
   "metadata": {
    "tags": []
   },
   "outputs": [
    {
     "name": "stdout",
     "output_type": "stream",
     "text": [
      "等確率分布のエントロピー = 1.9999999999942293\n",
      "偏った分布のエントロピー = 0.2419407328474401\n"
     ]
    }
   ],
   "source": [
    "def entropy(p):\n",
    "    return -np.sum(p * np.log2(p + 1e-12))\n",
    "\n",
    "# 等確率な分布（最大エントロピー）\n",
    "p_uniform = np.array([0.25, 0.25, 0.25, 0.25])\n",
    "\n",
    "# 偏った分布（最小エントロピーに近い）\n",
    "p_biased = np.array([0.97, 0.01, 0.01, 0.01])\n",
    "\n",
    "print(\"等確率分布のエントロピー =\", entropy(p_uniform))\n",
    "print(\"偏った分布のエントロピー =\", entropy(p_biased))\n",
    "\n",
    "# TODO: 等確率分布の方がエントロピーが ____ くなる理由を考察せよ\n"
   ]
  },
  {
   "cell_type": "markdown",
   "id": "c8ec09a6",
   "metadata": {},
   "source": [
    "## 問題3: KLダイバージェンスの直感\n",
    "\n",
    "KLダイバージェンスは、真の分布 \\( p \\) と予測分布 \\( q \\) の「ずれ」を測る非対称な指標です：\n",
    "\n",
    "\\[\n",
    "\\mathrm{KL}(p || q) = \\sum p(x) \\log\\left(\\frac{p(x)}{q(x)}\\right)\n",
    "\\]\n",
    "\n",
    "以下のコードを完成させて、\\( KL(p||q) \\) を実装し、2つのケースを比較してください。\n"
   ]
  },
  {
   "cell_type": "code",
   "execution_count": 4,
   "id": "a92fe98d",
   "metadata": {
    "tags": []
   },
   "outputs": [
    {
     "name": "stdout",
     "output_type": "stream",
     "text": [
      "KL(p || q1) = 0.029049405545331364\n",
      "KL(p || q2) = 1.0830074998557686\n"
     ]
    }
   ],
   "source": [
    "def kl_divergence(p, q):\n",
    "    return np.sum(p * np.log2(p / q))\n",
    "\n",
    "p = np.array([0.4, 0.6])\n",
    "q1 = np.array([0.5, 0.5])  # 少しずれた予測\n",
    "q2 = np.array([0.9, 0.1])  # 大きくずれた予測\n",
    "\n",
    "kl1 = kl_divergence(p, q1)\n",
    "kl2 = kl_divergence(p, q2)\n",
    "\n",
    "print(\"KL(p || q1) =\", kl1)\n",
    "print(\"KL(p || q2) =\", kl2)\n",
    "\n",
    "# q1 と q2 のどちらが p に近い？そのとき KL ダイバージェンスは ____ くなる。\n"
   ]
  },
  {
   "cell_type": "code",
   "execution_count": 2,
   "id": "538e0e05-23e7-494f-8949-2ae6b30e6d4c",
   "metadata": {},
   "outputs": [
    {
     "name": "stdout",
     "output_type": "stream",
     "text": [
      "Total     : 7.92 GB\n",
      "Available : 1.39 GB\n",
      "Used      : 6.53 GB\n",
      "Free      : 1.39 GB\n",
      "Usage     : 82.5 %\n"
     ]
    }
   ],
   "source": [
    "import psutil\n",
    "\n",
    "mem = psutil.virtual_memory()\n",
    "\n",
    "print(f\"Total     : {mem.total / (1024 ** 3):.2f} GB\")\n",
    "print(f\"Available : {mem.available / (1024 ** 3):.2f} GB\")\n",
    "print(f\"Used      : {mem.used / (1024 ** 3):.2f} GB\")\n",
    "print(f\"Free      : {mem.free / (1024 ** 3):.2f} GB\")\n",
    "print(f\"Usage     : {mem.percent} %\")\n"
   ]
  },
  {
   "cell_type": "code",
   "execution_count": null,
   "id": "6d0ebfa8-3950-4407-8230-53652dea289a",
   "metadata": {},
   "outputs": [],
   "source": []
  }
 ],
 "metadata": {
  "kernelspec": {
   "display_name": "Python 3 (ipykernel)",
   "language": "python",
   "name": "python3"
  },
  "language_info": {
   "codemirror_mode": {
    "name": "ipython",
    "version": 3
   },
   "file_extension": ".py",
   "mimetype": "text/x-python",
   "name": "python",
   "nbconvert_exporter": "python",
   "pygments_lexer": "ipython3",
   "version": "3.11.5"
  }
 },
 "nbformat": 4,
 "nbformat_minor": 5
}
