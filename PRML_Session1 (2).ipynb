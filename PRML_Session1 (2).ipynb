{
 "cells": [
  {
   "cell_type": "code",
   "execution_count": null,
   "id": "af6c0034-e173-44f6-9301-534f9430d2db",
   "metadata": {},
   "outputs": [],
   "source": [
    "## 次元の呪い\n",
    "\n",
    "高次元データ空間では、計算量が急激に増大するという「次元の呪い」が発生します。特に以下のような影響があります：\n",
    "\n",
    "- 各データ点が $d$ 次元ベクトルとした時、距離計算や関数適用には $ d $ 回の演算が必要になります。\n",
    "- 比較対象の点が N 個ある場合、計算コストは $ O(N × d)$ に比例します。\n",
    "- 次元が大きくなると、1回の距離計算でも負荷が大きくなり、演算、クラスタリング、分類タスクのパフォーマンスに影響します。"
   ]
  },
  {
   "cell_type": "code",
   "execution_count": null,
   "id": "6610802e-5739-4f89-9d29-ff5738025a56",
   "metadata": {},
   "outputs": [],
   "source": [
    "# セッション1: モデル選択と情報理論\n",
    "\n",
    "## 目的\n",
    "「次元の呪い」によって、計算コストが次元数に応じてどのように増加するかを確認する。\n",
    "\n",
    "---\n",
    "\n",
    "## 問題\n",
    "\n",
    "`for` 文を用いて、次元 `d` が増えることで計算時間が増加する現象を以下の2つの実験で確認せよ。\n",
    "\n",
    "- **課題1**: `N × d` のデータフレーム同士の掛け算（要素積）の計算時間を測定する。\n",
    "- **課題2**: `scipy.optimize.curve_fit` を用いた d 次元の線形回帰当てはめ処理の計算時間を測定する。\n",
    "\n",
    "### 計測方法の例:\n",
    "\n",
    "```python\n",
    "import time\n",
    "\n",
    "d = 10\n",
    "\n",
    "start = time.time()\n",
    "# 計算の処理\n",
    "elapsed = time.time() - start\n",
    "\n",
    "print(f\"{d}次元：計算時間 = {elapsed:.6f} 秒\")\n"
   ]
  },
  {
   "cell_type": "code",
   "execution_count": 21,
   "id": "5f8621ee-ee35-4c30-b09b-afb19bad874c",
   "metadata": {
    "tags": []
   },
   "outputs": [],
   "source": [
    "import numpy as np\n",
    "from scipy.optimize import curve_fit\n",
    "import time"
   ]
  },
  {
   "cell_type": "code",
   "execution_count": 16,
   "id": "3658ef7b-8caa-4544-8859-9cc63771fdf7",
   "metadata": {
    "tags": []
   },
   "outputs": [],
   "source": [
    "# 課題1\n"
   ]
  },
  {
   "cell_type": "code",
   "execution_count": 19,
   "id": "661ade42-9c8c-475e-8c9f-717048752adf",
   "metadata": {
    "tags": []
   },
   "outputs": [
    {
     "name": "stdout",
     "output_type": "stream",
     "text": [
      "1次元：curve_fit 実行時間 = 0.000998 秒\n",
      "10次元：curve_fit 実行時間 = 0.005605 秒\n",
      "100次元：curve_fit 実行時間 = 0.097263 秒\n",
      "1000次元：curve_fit 実行時間 = 10.857457 秒\n"
     ]
    },
    {
     "name": "stderr",
     "output_type": "stream",
     "text": [
      "C:\\Users\\tokei\\anaconda3\\Lib\\site-packages\\scipy\\optimize\\_minpack_py.py:1010: OptimizeWarning: Covariance of the parameters could not be estimated\n",
      "  warnings.warn('Covariance of the parameters could not be estimated',\n"
     ]
    }
   ],
   "source": [
    "# 課題2\n",
    "\n",
    "\n",
    "# 今回使用する関数\n",
    "# curve_fit 用に d 次元の線形モデルを定義（X: shape=(N, d), params: shape=(d,)）\n",
    "def linear_model(X, *params):\n",
    "    return np.dot(X, np.array(params))\n",
    "# データ\n",
    "np.random.seed(0)\n",
    "X = np.random.rand(1000, d)\n",
    "true_params = np.arange(1, d+1)\n",
    "y = X @ true_params + np.random.normal(scale=0.1, size=1000)\n",
    "\n",
    "    "
   ]
  },
  {
   "cell_type": "code",
   "execution_count": 3,
   "id": "b8adaa95-73e6-4622-b7a1-814ec1b72b77",
   "metadata": {
    "tags": []
   },
   "outputs": [
    {
     "name": "stdout",
     "output_type": "stream",
     "text": [
      "10次元: 計算時間 = 0.01895 秒, 特徴量数 = 65\n",
      "50次元: 計算時間 = 0.09353 秒, 特徴量数 = 1325\n",
      "100次元: 計算時間 = 0.14190 秒, 特徴量数 = 5150\n",
      "200次元: 計算時間 = 0.45900 秒, 特徴量数 = 20300\n",
      "300次元: 計算時間 = 1.09612 秒, 特徴量数 = 45450\n"
     ]
    },
    {
     "data": {
      "image/png": "[encoded data removed]",
      "text/plain": [
       "<Figure size 640x480 with 1 Axes>"
      ]
     },
     "metadata": {},
     "output_type": "display_data"
    }
   ],
   "source": [
    "import numpy as np\n",
    "import matplotlib.pyplot as plt\n",
    "from sklearn.preprocessing import PolynomialFeatures\n",
    "from sklearn.linear_model import LinearRegression\n",
    "import time\n",
    "\n",
    "def generate_data(n_samples, n_features, noise=0.1):\n",
    "    X = np.random.uniform(-1, 1, size=(n_samples, n_features))\n",
    "    true_w = np.random.randn(n_features)\n",
    "    y = X @ true_w + noise * np.random.randn(n_samples)\n",
    "    return X, y\n",
    "\n",
    "def benchmark_polynomial_fit(degree=2, dims=[10, 50, 100, 200, 300], n_samples=300):\n",
    "    times = []\n",
    "    for d in dims:\n",
    "        X, y = generate_data(n_samples, d)\n",
    "        poly = PolynomialFeatures(degree=degree, include_bias=False)\n",
    "        X_poly = poly.fit_transform(X)\n",
    "        \n",
    "        model = LinearRegression()\n",
    "        start = time.time()\n",
    "        model.fit(X_poly, y)\n",
    "        end = time.time()\n",
    "        \n",
    "        elapsed = end - start\n",
    "        print(f\"{d}次元: 計算時間 = {elapsed:.5f} 秒, 特徴量数 = {X_poly.shape[1]}\")\n",
    "        times.append(elapsed)\n",
    "    return dims, times\n",
    "\n",
    "# 実行\n",
    "dims, times = benchmark_polynomial_fit()\n",
    "\n",
    "# 可視化\n",
    "plt.plot(dims, times, marker=\"o\")\n",
    "plt.xlabel(\"dim d\")\n",
    "plt.ylabel(\"fitting time\")\n",
    "plt.title(\"\")\n",
    "plt.grid(True)\n",
    "plt.show()\n"
   ]
  },
  {
   "cell_type": "markdown",
   "id": "dcdb2ec3-fdf3-40bf-9637-ce7df25055c7",
   "metadata": {
    "tags": []
   },
   "source": [
    "# Appendix: 計算量について調べよ"
   ]
  }
 ],
 "metadata": {
  "kernelspec": {
   "display_name": "Python 3 (ipykernel)",
   "language": "python",
   "name": "python3"
  },
  "language_info": {
   "codemirror_mode": {
    "name": "ipython",
    "version": 3
   },
   "file_extension": ".py",
   "mimetype": "text/x-python",
   "name": "python",
   "nbconvert_exporter": "python",
   "pygments_lexer": "ipython3",
   "version": "3.11.5"
  }
 },
 "nbformat": 4,
 "nbformat_minor": 5
}
